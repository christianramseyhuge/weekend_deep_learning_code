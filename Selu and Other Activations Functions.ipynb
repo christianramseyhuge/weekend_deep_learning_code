{
 "cells": [
  {
   "cell_type": "code",
   "execution_count": 71,
   "metadata": {},
   "outputs": [],
   "source": [
    "import numpy as np\n",
    "input_data = np.random.randint(0,1000,3)\n",
    "weights = {'node_0': np.random.randint(0, 100, 3), 'node_1': np.random.randint(0, 100, 3), 'output': np.random.randint(0, 100, 2)}"
   ]
  },
  {
   "cell_type": "code",
   "execution_count": 72,
   "metadata": {},
   "outputs": [
    {
     "data": {
      "text/plain": [
       "array([42,  7, 37])"
      ]
     },
     "execution_count": 72,
     "metadata": {},
     "output_type": "execute_result"
    }
   ],
   "source": [
    "np.random.randint(0, 100, 3)"
   ]
  },
  {
   "cell_type": "code",
   "execution_count": 76,
   "metadata": {},
   "outputs": [
    {
     "name": "stdout",
     "output_type": "stream",
     "text": [
      "Input Data:  [10 78 41]\n",
      "Node_0_Input:  1927\n",
      "Pre-relu:  1927\n",
      "Relued:  1927\n",
      "Node_0_Output Post Relu:  1927\n",
      "Node_1_Input:  4946\n",
      "Node_1_Output Post SELU:  5196.7622\n",
      "hidden_layer_outputs:  [ 1927.      5196.7622]\n",
      "hidden_layer_outputs:  [ 1927.      5196.7622]\n",
      "501933.1162\n"
     ]
    },
    {
     "name": "stderr",
     "output_type": "stream",
     "text": [
      "/anaconda/lib/python3.6/site-packages/ipykernel_launcher.py:14: RuntimeWarning: overflow encountered in exp\n",
      "  \n"
     ]
    }
   ],
   "source": [
    "print(\"Input Data: \", input_data)\n",
    "def relu(input):\n",
    "    output = max(0, input)\n",
    "    print(\"Pre-relu: \", input)\n",
    "    print(\"Relued: \", output)\n",
    "    return(output)\n",
    "\n",
    "def selu(input):\n",
    "    alpha = 1.67326\n",
    "    scale = 1.0507\n",
    "    return(scale*np.where(input>=0.0, input, alpha*np.exp(input)-alpha))\n",
    "\n",
    "node_0_input = (input_data * weights['node_0']).sum()\n",
    "print(\"Node_0_Input: \", node_0_input)\n",
    "node_0_output = relu(node_0_input)\n",
    "print(\"Node_0_Output Post Relu: \", node_0_output)\n",
    "\n",
    "node_1_input = (input_data * weights['node_1']).sum()\n",
    "print(\"Node_1_Input: \", node_1_input)\n",
    "node_1_output = selu(node_1_input)\n",
    "print(\"Node_1_Output Post SELU: \", node_1_output)\n",
    "\n",
    "\n",
    "hidden_layer_outputs = np.array([node_0_output, node_1_output])\n",
    "print(\"hidden_layer_outputs: \", hidden_layer_outputs)\n",
    "\n",
    "model_output = (hidden_layer_outputs * weights['output']).sum()\n",
    "print(\"hidden_layer_outputs: \", hidden_layer_outputs)\n",
    "\n",
    "\n",
    "print(model_output)"
   ]
  },
  {
   "cell_type": "code",
   "execution_count": null,
   "metadata": {},
   "outputs": [],
   "source": []
  },
  {
   "cell_type": "code",
   "execution_count": 45,
   "metadata": {},
   "outputs": [
    {
     "ename": "ValueError",
     "evalue": "operands could not be broadcast together with shapes (2,) (3,) ",
     "output_type": "error",
     "traceback": [
      "\u001b[0;31m---------------------------------------------------------------------------\u001b[0m",
      "\u001b[0;31mValueError\u001b[0m                                Traceback (most recent call last)",
      "\u001b[0;32m<ipython-input-45-bddb37ef4efd>\u001b[0m in \u001b[0;36m<module>\u001b[0;34m()\u001b[0m\n\u001b[0;32m----> 1\u001b[0;31m \u001b[0mnp\u001b[0m\u001b[0;34m.\u001b[0m\u001b[0mtranspose\u001b[0m\u001b[0;34m(\u001b[0m\u001b[0mnp\u001b[0m\u001b[0;34m.\u001b[0m\u001b[0marray\u001b[0m\u001b[0;34m(\u001b[0m\u001b[0mweights\u001b[0m\u001b[0;34m[\u001b[0m\u001b[0;34m'node_0'\u001b[0m\u001b[0;34m]\u001b[0m\u001b[0;34m)\u001b[0m\u001b[0;34m)\u001b[0m\u001b[0;34m*\u001b[0m\u001b[0mnp\u001b[0m\u001b[0;34m.\u001b[0m\u001b[0marray\u001b[0m\u001b[0;34m(\u001b[0m\u001b[0mnp\u001b[0m\u001b[0;34m.\u001b[0m\u001b[0marray\u001b[0m\u001b[0;34m(\u001b[0m\u001b[0mnp\u001b[0m\u001b[0;34m.\u001b[0m\u001b[0marray\u001b[0m\u001b[0;34m(\u001b[0m\u001b[0minput_data\u001b[0m\u001b[0;34m)\u001b[0m\u001b[0;34m)\u001b[0m\u001b[0;34m)\u001b[0m\u001b[0;34m\u001b[0m\u001b[0m\n\u001b[0m",
      "\u001b[0;31mValueError\u001b[0m: operands could not be broadcast together with shapes (2,) (3,) "
     ]
    }
   ],
   "source": []
  },
  {
   "cell_type": "code",
   "execution_count": null,
   "metadata": {
    "collapsed": true
   },
   "outputs": [],
   "source": []
  }
 ],
 "metadata": {
  "kernelspec": {
   "display_name": "Python 3",
   "language": "python",
   "name": "python3"
  },
  "language_info": {
   "codemirror_mode": {
    "name": "ipython",
    "version": 3
   },
   "file_extension": ".py",
   "mimetype": "text/x-python",
   "name": "python",
   "nbconvert_exporter": "python",
   "pygments_lexer": "ipython3",
   "version": "3.6.1"
  }
 },
 "nbformat": 4,
 "nbformat_minor": 2
}
